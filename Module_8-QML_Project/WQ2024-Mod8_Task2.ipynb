{
 "cells": [
  {
   "cell_type": "markdown",
   "id": "cfd343a2",
   "metadata": {},
   "source": [
    "# The FireworQS: Sorana Aurelia & Erica Sturm\n",
    "### Womanium 2024 QML Project: Quantum Machine Learning for Conspicuity Detection in Production\n",
    "### Notebook 2\n",
    "\n",
    "This Jupyter Notebook covers Task 2 of the quantum machine learning challenge given by Fraunhofer. Tasks 0, 1, and 3 are covered elsewhere. We make use of standard markdown notation as well as several HTML tags which may not render in the intended manner. However, these issues are merely cosmetic and will not alter the content."
   ]
  },
  {
   "cell_type": "markdown",
   "id": "a6911fce",
   "metadata": {},
   "source": [
    "## Guided Walkthrough of \"The Variational Classifier\"<a class=\"anchor\" id=\"var_classifier\"></a>\n",
    "In this section, we will be doing a guided walkthrough of the PennyLane demo article [\"Variational Classifier](https://pennylane.ai/qml/demos/tutorial_variational_classifier/), in a manner akin to what we did for the[JAX tutorial](#JAXxPL) above. We will copy code blocks and denote whether or not they have been modified, with appropriate justificaitons given as needed. We have also interleaved our commentary in markdown cells between the code cells to better convey our learning process.\n",
    "\n",
    "**Before we dive into the official demo material, we pause for a moment to denote several conventions we use and define machine learning (ML) terminology.\n",
    "\n",
    "\n",
    "The demo's introduction states that we will go through two ways to encode information for a variational quantum circuit. The first was inspired by the work done by [Farhi and Neven](https://arxiv.org/abs/1802.06002) where an binary input is encoded and the circuit determines the input's parity. The second example encodes real vector amplitudes as quantum states as demonstrated by [Schuld, Bocharov, Svore, and Wiebe](https://arxiv.org/abs/1804.00633).\n",
    "\n",
    "Contents:\n",
    "* [Example 1: Basis Encoding](#ex1-title)\n",
    "    * [Parity function fitting](#ex1-fitting)\n",
    "    * [Cost function](#ex1-cost)\n",
    "    * [Optimization](#ex1-opt)\n",
    "* [Example 2: Amplitude Encoding](#ex2-title)\n",
    "    * [Quantum and classical nodes](#ex2-nodes)\n",
    "    * [Data](#ex2-data)\n",
    "    * [Optimization](#ex2-opt)\n",
    "\n",
    "Before we go into specific examples, we begin by installing PennyLane. This line might not be required depending on the host's `environment.` We have surpressed the `STDOUT` of the cell below for clarity."
   ]
  },
  {
   "cell_type": "code",
   "execution_count": 1,
   "id": "e8d750dd",
   "metadata": {
    "collapsed": true
   },
   "outputs": [
    {
     "name": "stdout",
     "output_type": "stream",
     "text": [
      "Requirement already satisfied: pennylane in /home/erica/anaconda3/lib/python3.11/site-packages (0.37.0)\n",
      "Requirement already satisfied: numpy<2.0 in /home/erica/anaconda3/lib/python3.11/site-packages (from pennylane) (1.24.3)\n",
      "Requirement already satisfied: scipy in /home/erica/anaconda3/lib/python3.11/site-packages (from pennylane) (1.11.1)\n",
      "Requirement already satisfied: networkx in /home/erica/anaconda3/lib/python3.11/site-packages (from pennylane) (3.2.1)\n",
      "Requirement already satisfied: rustworkx in /home/erica/anaconda3/lib/python3.11/site-packages (from pennylane) (0.14.2)\n",
      "Requirement already satisfied: autograd in /home/erica/anaconda3/lib/python3.11/site-packages (from pennylane) (1.6.2)\n",
      "Requirement already satisfied: toml in /home/erica/anaconda3/lib/python3.11/site-packages (from pennylane) (0.10.2)\n",
      "Requirement already satisfied: appdirs in /home/erica/anaconda3/lib/python3.11/site-packages (from pennylane) (1.4.4)\n",
      "Requirement already satisfied: semantic-version>=2.7 in /home/erica/anaconda3/lib/python3.11/site-packages (from pennylane) (2.10.0)\n",
      "Requirement already satisfied: autoray>=0.6.11 in /home/erica/anaconda3/lib/python3.11/site-packages (from pennylane) (0.6.12)\n",
      "Requirement already satisfied: cachetools in /home/erica/anaconda3/lib/python3.11/site-packages (from pennylane) (5.4.0)\n",
      "Requirement already satisfied: pennylane-lightning>=0.37 in /home/erica/anaconda3/lib/python3.11/site-packages (from pennylane) (0.37.0)\n",
      "Requirement already satisfied: requests in /home/erica/anaconda3/lib/python3.11/site-packages (from pennylane) (2.31.0)\n",
      "Requirement already satisfied: typing-extensions in /home/erica/anaconda3/lib/python3.11/site-packages (from pennylane) (4.12.2)\n",
      "Requirement already satisfied: packaging in /home/erica/anaconda3/lib/python3.11/site-packages (from pennylane) (23.1)\n",
      "Requirement already satisfied: future>=0.15.2 in /home/erica/anaconda3/lib/python3.11/site-packages (from autograd->pennylane) (0.18.3)\n",
      "Requirement already satisfied: charset-normalizer<4,>=2 in /home/erica/anaconda3/lib/python3.11/site-packages (from requests->pennylane) (2.0.4)\n",
      "Requirement already satisfied: idna<4,>=2.5 in /home/erica/anaconda3/lib/python3.11/site-packages (from requests->pennylane) (3.4)\n",
      "Requirement already satisfied: urllib3<3,>=1.21.1 in /home/erica/anaconda3/lib/python3.11/site-packages (from requests->pennylane) (2.2.1)\n",
      "Requirement already satisfied: certifi>=2017.4.17 in /home/erica/anaconda3/lib/python3.11/site-packages (from requests->pennylane) (2024.6.2)\n",
      "Note: you may need to restart the kernel to use updated packages.\n"
     ]
    }
   ],
   "source": [
    "%pip install -U pennylane"
   ]
  },
  {
   "cell_type": "markdown",
   "id": "da16d7b2",
   "metadata": {},
   "source": [
    "## Example 1: Basis Encoding<a class=\"anchor\" id=\"ex1-title\"></a>\n",
    "Now we are ready to begin the first example of the demo's code, starting with `import` statements that will be used for both. As before any comment with the initials `FQS` is our group's commentary on the code. We note whether or not any of the demo's code has been modified, and if so, the nature of the modifications and the reasons for them.\n",
    "\n",
    "While the `import` code lines have not been altered, we draw particular attention that we will be relying upon the PennyLane version of NumPy, instead of the standard version. The code will still use the ubiquitous abbreviation of `np` for this module."
   ]
  },
  {
   "cell_type": "code",
   "execution_count": 2,
   "id": "06f5c21c",
   "metadata": {},
   "outputs": [],
   "source": [
    "# FQS: the code here has not been altered.\n",
    "\n",
    "import pennylane as qml\n",
    "from pennylane import numpy as np\n",
    "from pennylane.optimize import NesterovMomentumOptimizer"
   ]
  },
  {
   "cell_type": "markdown",
   "id": "4bf46866",
   "metadata": {},
   "source": [
    "We now create a PennyLane `device` instance. In the Codebook exercises we saw that a `device` is a backend on which a quantum circuit is run. In the cell below, this backend is the classical simulator for qubits, `defuault.qubit`. Unlike the codebook challenges, we do not specify the number of `wires` (qubits) as this stage."
   ]
  },
  {
   "cell_type": "code",
   "execution_count": 3,
   "id": "f4fd6b0e",
   "metadata": {},
   "outputs": [],
   "source": [
    "# FQS: the code here has not been altered.\n",
    "\n",
    "dev = qml.device(\"default.qubit\")"
   ]
  },
  {
   "cell_type": "markdown",
   "id": "14cf7d94",
   "metadata": {},
   "source": [
    "### Example 1: Parity function fitting<a class=\"anchor\" id=\"ex1-fitting\"></a>\n",
    "In this parity function fitting, we aim to create a QML that can determine whether a bit string of length 4 has an even or odd number of 1s. \n",
    "\n",
    "The demo then defines a subroutine called `layer` which is a small quantum circuit that we will call several times in order to build the full circuit. Here, we see that there will be four wires/qubits, and each will be rotated by a given amount which is stored in the passed argument `layer_weights`. After that, all four qubits are entangled with each other using CNOT gates. Note that the `qnode` decorator is not present for this subroutine; later we will see that this function is called as part of a larger quantum circuit and that function will have the decorator. However, when invoked it will still obey the PennyLane requirements to be part of a quantum circuit: only one quantum instruction is given per line (with desired wire specified), the instructions are organized in the order to be executed, and the last major requirement about return types does not apply here."
   ]
  },
  {
   "cell_type": "code",
   "execution_count": 4,
   "id": "07d1172e",
   "metadata": {},
   "outputs": [],
   "source": [
    "# FQS: the code here has not been altered.\n",
    "\n",
    "def layer(layer_weights):\n",
    "    for wire in range(4):\n",
    "        qml.Rot(*layer_weights[wire], wires=wire)\n",
    "\n",
    "    for wires in ([0, 1], [1, 2], [2, 3], [3, 0]):\n",
    "        qml.CNOT(wires)"
   ]
  },
  {
   "cell_type": "markdown",
   "id": "00dd0c27",
   "metadata": {},
   "source": [
    "The word choices of \"layer\" and \"weights\" are borrowed from classical machine learning. In a neural network, each column of nodes or neurons is called a \"layer.\" In a fully connected network, each node of a layer is fully connected to every node in the previous layer as well as the next one. The connection between two nodes is called a weight, and the magnitude of this weight determines the relative importance of the information--wehther it gets passed to the next layer or not. Note: the input and output layers are only connected to one adjacent layer instead of two.\n",
    "\n",
    "The naming convention above follows this spirit. The qubits are the nodes or neurons, grouped into \"layers\" to be executed sequentially, and the rotation angles determine the how strongly (or weakly) a qubit influences the final observation. Just as the nodes in a traditional neural network are \"entangled\" with other nodes, our qubits are entangled with each other. In a neural network we adjust or train the weights such that the \"right\" nodes have greater influence, and in a quantum circuit we adjust the rotation angles of entangled qubits such that the final measurement gives the desired answer. \n",
    "\n",
    "Back to the code. We need a way to encode inputs in a manner that the that the computers can use--and that means binary (or base 2). This also implies that we need to reverse the encoding at the end to take the binary output and convert that back to whatever \"human-readable\" system we are using. Once we have converted our problem into binary, we need to set the qubits according to our initial input. The demo notes that the convenient `BasisState` function in PennyLane takes an input NumPy array of 0s and 1s and according to the [documentation](https://docs.pennylane.ai/en/stable/code/api/pennylane.BasisState.html#pennylane.BasisState) \"prepares a single computational basis state.\" As the initial state for all qubits is $\\lvert 0\\rangle$, mathematically, the `BasisState` function executes the following linear algebra: $\\hat{U}\\lvert 0\\rangle = \\lvert\\Psi\\rangle$ where $\\hat{U}$ is a unitary operator.\n",
    "\n",
    "In this particular example, the inputs are [0,1,0,1] which are already in binary, so this function is ideally suited to our needs! The subroutine below initializes our quantum state with our input. Whatever the input `x` value is (right now it's `0, 1, 0, 1` but it need not be), that is mapped to the four wires (qubits) of our system. This subroutine will also be called by the primary circuit function later, and therefore no `qnode` decorator is required here either."
   ]
  },
  {
   "cell_type": "code",
   "execution_count": 5,
   "id": "673a96d6",
   "metadata": {},
   "outputs": [],
   "source": [
    "# FQS: the code here has not been altered.\n",
    "\n",
    "def state_preparation(x):\n",
    "    qml.BasisState(x, wires=[0, 1, 2, 3])"
   ]
  },
  {
   "cell_type": "markdown",
   "id": "60a013e2",
   "metadata": {},
   "source": [
    "We are now ready to create our full quantum circuit! As this is the primary function where the quantum circuit is defined, we now use the `qnode` decorator to bind the device we instantiated earlier (with the simulator backed). Note that the `state_preparation` and `layer` functions we defined earlier without the `qnode` decorator are called on lines 5 and 7-8 respectively, where the latter is calld multiple times. So in a sense, all subroutines thus far have been \"decorated\" but this approach makes the code cleaner! \n",
    "\n",
    "The final line in the `circuit` function requests an expectation value on wire 0 (the top wire; the least signficant qubit) to be taken according to the Pauli-Z basis, which is another way to request the standard \"computational\" basis."
   ]
  },
  {
   "cell_type": "code",
   "execution_count": 6,
   "id": "108e4279",
   "metadata": {},
   "outputs": [],
   "source": [
    "# FQS: the code here has not been altered.\n",
    "\n",
    "@qml.qnode(dev)\n",
    "def circuit(weights, x):\n",
    "    state_preparation(x)\n",
    "\n",
    "    for layer_weights in weights:\n",
    "        layer(layer_weights)\n",
    "\n",
    "    return qml.expval(qml.PauliZ(0))"
   ]
  },
  {
   "cell_type": "markdown",
   "id": "fabcfaa7",
   "metadata": {},
   "source": [
    "To include the post-processing step of including a bias, we define a Python function that calls our quantum circuit and upon the conclusion of that entire circuit (initialization, for-loop iterations, and computing the expectation value), we simply add a scalar value, the `bias`. This bias term works exactly the same way as it does in classical ML. In the cell below, we also see that `x` and `weights` are also passed arguments. The former corresponds to the input we saw earlier [0, 1, 0, 1] and the latter is an initial guess or ansatz used to initalize the the rotation angles of the circuit so that they are not forced to start from all 0s. Ideally, this initial guess will be selected with some forethought about the system or goals forthe project. A good initial guess will expedite training and/or help ensure that a non-spurious result is attainable. \n",
    "\n",
    "By this we mean that the 'start' location on the input hypersurface is picked such that the global minimum is nearby accocrding to some approrpiate measurement criterion such as Euclidean norm. A poor guess may result in wasted effort by either taking longer to traverse the hyperspace or falling into closer but local minimum. However, this detail is getting a little beyond the scope of this present walk-through, so we leave additional discussion out of this document.\n"
   ]
  },
  {
   "cell_type": "code",
   "execution_count": 7,
   "id": "a79d98a5",
   "metadata": {},
   "outputs": [],
   "source": [
    "# FQS: the code here has not been altered.\n",
    "\n",
    "def variational_classifier(weights, bias, x):\n",
    "    return circuit(weights, x) + bias"
   ]
  },
  {
   "cell_type": "markdown",
   "id": "266f88e2",
   "metadata": {},
   "source": [
    "### Example 1: Cost function<a class=\"anchor\" id=\"ex1-cost\"></a>\n",
    "We now have the basic ML structure. However, the weights (angles of rotation) have not be tuned properly. These weights need to be set such that given an input the function encoded by the ML algorithm predicts an output that is as close to the true or ideal result as possible. In supervised learning, this can be accomplished by giving the ML model training data where inputs are associated with labeled outputs. The ML model then runs a calculation using the weights it already has (either from the initial ansatz or a previous iteration) and comparing the predicted output against the ground truth output. The difference between the prediction and ground truth is quantified using a loss function which is unique to the system under investigation. Some examples of loss functions include regression equations or mean absolute error. The cost function includes this loss function value and a regularizer. \n",
    "After an iteration, the cost is computed and updates are made to the weights with the goal of decresasing the loss (and therefore cost too) in the next iterateration. In theory, when the cost is minimized, this indicates that the weights for the model have been optimized.\n",
    "\n",
    "The demo notes that we will be using the standard square loss where the Euclidean distance between the ground truth and model predictions is measured. The function that encodes this is provided below. Other, more complex loss functions may be required depending on the system, but here it is quite straightforward. Note that the square loss returns a single value--the average of all the discrepancies between the labeled ground truth and the predictions. It's not a good model if it only works for one or a few trials, the goal is to have a good model for a variety of inputs across the domain!"
   ]
  },
  {
   "cell_type": "code",
   "execution_count": 8,
   "id": "0c1e6d88",
   "metadata": {},
   "outputs": [],
   "source": [
    "# FQS: the code here has not been altered.\n",
    "\n",
    "def square_loss(labels, predictions):\n",
    "    # We use a call to qml.math.stack to allow subtracting the arrays directly\n",
    "    return np.mean((labels - qml.math.stack(predictions)) ** 2)"
   ]
  },
  {
   "cell_type": "markdown",
   "id": "c98eafe5",
   "metadata": {},
   "source": [
    "The demo authors also wrote a subroutine to monitor the number of correct predictions the current model makes. Ideally, the number of correct predicitons will increase as the model weights are optimized. This is not a required step for ML model creation, but it does provide a convenient and human-friendly way to monitor the training progress.\n",
    "\n",
    "Here, a prediction is considered `acc`urate if it differs from the labeled ground truth value by less than $1\\mathrm{e}^{-5}$ in magnitude. "
   ]
  },
  {
   "cell_type": "code",
   "execution_count": 9,
   "id": "cbd581e3",
   "metadata": {},
   "outputs": [],
   "source": [
    "# FQS: the code here has not been altered.\n",
    "\n",
    "def accuracy(labels, predictions):\n",
    "    acc = sum(abs(l - p) < 1e-5 for l, p in zip(labels, predictions))\n",
    "    acc = acc / len(labels)\n",
    "    return acc"
   ]
  },
  {
   "cell_type": "markdown",
   "id": "f8576232",
   "metadata": {},
   "source": [
    "We are now ready to define the required cost function. All cost functions require the training data (inputs `X` and outputs `Y`), the model's current `weights` (angles of rotation), and the `bias`. In line 4 in the code cell below we see that predicted outputs are computed by the model for every input trial `x`. All of these predicted outputs are then compared against the ground truth counterparts in the function call to the loss function (`square_loss()`) in line 5. "
   ]
  },
  {
   "cell_type": "code",
   "execution_count": 10,
   "id": "83aa999e",
   "metadata": {},
   "outputs": [],
   "source": [
    "# FQS: the code here has not been altered.\n",
    "\n",
    "def cost(weights, bias, X, Y):\n",
    "    predictions = [variational_classifier(weights, bias, x) for x in X]\n",
    "    return square_loss(Y, predictions)"
   ]
  },
  {
   "cell_type": "markdown",
   "id": "8f68a895",
   "metadata": {},
   "source": [
    "### Example 1: Optimization<a class=\"anchor\" id=\"ex1-opt\"></a>\n",
    "At this point in the demo, we have created quantum ML model, initialized it with an ansatz that we encoded for qubits, and defined the classical upport subroutines that will enable us to iteratively improve the QML model (i.e. the loss and cost subroutines). We now need data to train the model! First, we must load the data and preprocess it. This just means that we organize it so that our ML model can read it. In CML this step may also require additional steps such as normalization and standardization. \n",
    "\n",
    "We followed the instructions in the webpage to access the required text files so that line 3 in the cell below works as desired. Our preprocessing steps include assigning the textfile data to the variable names we defined earlier. Each line of the training and test sets have 5 single digits, either 0 or 1. The first 4 entries are the inputs (one for each of our qubits) and the final entry is the output--either 0 or 1 as this is a parity classifier. Line 6 is another preprocessing step where the output values are mapped from 0 and 1 to -1 and 1 respectively. This is done because the eigenvalues that we observe upon measurement from Pauli matrices are -1 and 1. Essentially, when we take a measurement in the computational/Pauli Z basis at the end of our quantum circuit, we would recieve one of these two values which correspond to the top or bottom of the Bloch sphere for 1/odd or -1/even parity.  Lines 8 and 9 print the results for us to review, and make it easy to see what the inputs and outputs are."
   ]
  },
  {
   "cell_type": "code",
   "execution_count": 14,
   "id": "441e53d6",
   "metadata": {},
   "outputs": [
    {
     "name": "stdout",
     "output_type": "stream",
     "text": [
      "x = [0 0 0 1], y = 1\n",
      "x = [0 0 1 0], y = 1\n",
      "x = [0 1 0 0], y = 1\n",
      "x = [0 1 0 1], y = -1\n",
      "x = [0 1 1 0], y = -1\n",
      "x = [0 1 1 1], y = 1\n",
      "x = [1 0 0 0], y = 1\n",
      "x = [1 0 0 1], y = -1\n",
      "x = [1 0 1 1], y = 1\n",
      "x = [1 1 1 1], y = -1\n"
     ]
    }
   ],
   "source": [
    "# FQS: the code here has not been altered.\n",
    "\n",
    "data = np.loadtxt(\"variational_classifier/data/parity_train.txt\", dtype=int)\n",
    "X = np.array(data[:, :-1])\n",
    "Y = np.array(data[:, -1])\n",
    "Y = Y * 2 - 1  # shift label from {0, 1} to {-1, 1}\n",
    "\n",
    "for x,y in zip(X, Y):\n",
    "    print(f\"x = {x}, y = {y}\")"
   ]
  },
  {
   "cell_type": "markdown",
   "id": "a05be4d4",
   "metadata": {},
   "source": [
    "Earlier we noted that ideally an initial ansatz would be an educated guess, but that is not always possible. In that case, a random guess would be used, and we see an example of that in the cell below where the seed is set in Line 3 for the purpose of reproducibility. This does not imply that a better guess does not exist, but for this toy-model demo a random guess is fine.\n",
    "\n",
    "We wish to draw particular attention to the `requires_grad` keyword in lines 6 and 7. This is the PennyLane keyword that tells the program that these variables `weights_init` (initial weights) and `bias_init` must be optimized by gradient descent. These are what the loss function is trying to minimize! If the values were set to `False` then these variables would be set by us but never updated."
   ]
  },
  {
   "cell_type": "code",
   "execution_count": 15,
   "id": "23e65ad3",
   "metadata": {},
   "outputs": [
    {
     "name": "stdout",
     "output_type": "stream",
     "text": [
      "Weights: [[[ 0.01764052  0.00400157  0.00978738]\n",
      "  [ 0.02240893  0.01867558 -0.00977278]\n",
      "  [ 0.00950088 -0.00151357 -0.00103219]\n",
      "  [ 0.00410599  0.00144044  0.01454274]]\n",
      "\n",
      " [[ 0.00761038  0.00121675  0.00443863]\n",
      "  [ 0.00333674  0.01494079 -0.00205158]\n",
      "  [ 0.00313068 -0.00854096 -0.0255299 ]\n",
      "  [ 0.00653619  0.00864436 -0.00742165]]]\n",
      "Bias:  0.0\n"
     ]
    }
   ],
   "source": [
    "# FQS: the code here has not been altered.\n",
    "\n",
    "np.random.seed(0)\n",
    "num_qubits = 4\n",
    "num_layers = 2\n",
    "weights_init = 0.01 * np.random.randn(num_layers, num_qubits, 3, requires_grad=True)\n",
    "bias_init = np.array(0.0, requires_grad=True)\n",
    "\n",
    "print(\"Weights:\", weights_init)\n",
    "print(\"Bias: \", bias_init)"
   ]
  },
  {
   "cell_type": "markdown",
   "id": "07d39149",
   "metadata": {},
   "source": [
    "While we just specified what variables need optimization via gradient descent, there are gradient descent approaches supported by PennyLane. The demo showcases the `NesteroMomentumOptimizer` with a step size of 0.5 units. In a nutshell, gradient descent computes the local gradient in the neighborhood of the current location on the output hypersurface. A step is then taken in the direction that is the steepest (most negative) and then we compute the loss and cost functions to determine if we need to repeat the process. \n",
    "\n",
    "The `batch` variable in line 4 is from CML and is part of how neural networks are trained. This basically takes the entire training set and splits it into smaller subsets or \"batches\" for the model to train upon. This is done to reduce the I/O and memory requirements. However, in this toy model we only have 10 trials! So with each pass of training our ML model, we will use half of the training set. (Usually one would have a MUCH larger training set, so this variable is significantly more important with real ML applications!)\n",
    "\n",
    "The demo now runs the optimizer--this is bringing *everything* together at last! The quantum simulator backend is initialized, the quantum circuit (with rotations and entanglement gates) is initialized, a guess is provided, and the training set is provided so that the loss and cost functions can determine whether another iteration is required with updated weights. We are assisted by the accuracy function which lets us watch how the model improves in a convenient manner."
   ]
  },
  {
   "cell_type": "code",
   "execution_count": 16,
   "id": "cde8b0b1",
   "metadata": {},
   "outputs": [
    {
     "name": "stdout",
     "output_type": "stream",
     "text": [
      "Iter:    1 | Cost: 2.3147651 | Accuracy: 0.5000000\n",
      "Iter:    2 | Cost: 1.9664866 | Accuracy: 0.5000000\n",
      "Iter:    3 | Cost: 1.9208589 | Accuracy: 0.5000000\n",
      "Iter:    4 | Cost: 2.6276126 | Accuracy: 0.5000000\n",
      "Iter:    5 | Cost: 0.9323119 | Accuracy: 0.6000000\n",
      "Iter:    6 | Cost: 1.1903549 | Accuracy: 0.5000000\n",
      "Iter:    7 | Cost: 2.0508989 | Accuracy: 0.4000000\n",
      "Iter:    8 | Cost: 1.1275531 | Accuracy: 0.6000000\n",
      "Iter:    9 | Cost: 1.1659803 | Accuracy: 0.6000000\n",
      "Iter:   10 | Cost: 1.1349618 | Accuracy: 0.6000000\n",
      "Iter:   11 | Cost: 0.9994063 | Accuracy: 0.6000000\n",
      "Iter:   12 | Cost: 1.0812559 | Accuracy: 0.6000000\n",
      "Iter:   13 | Cost: 1.2863155 | Accuracy: 0.6000000\n",
      "Iter:   14 | Cost: 2.2658259 | Accuracy: 0.4000000\n",
      "Iter:   15 | Cost: 1.1323724 | Accuracy: 0.6000000\n",
      "Iter:   16 | Cost: 1.3439737 | Accuracy: 0.8000000\n",
      "Iter:   17 | Cost: 2.0076168 | Accuracy: 0.6000000\n",
      "Iter:   18 | Cost: 1.2685760 | Accuracy: 0.5000000\n",
      "Iter:   19 | Cost: 1.6762475 | Accuracy: 0.5000000\n",
      "Iter:   20 | Cost: 1.1868237 | Accuracy: 0.6000000\n",
      "Iter:   21 | Cost: 1.4784687 | Accuracy: 0.6000000\n",
      "Iter:   22 | Cost: 1.4599473 | Accuracy: 0.6000000\n",
      "Iter:   23 | Cost: 0.9573269 | Accuracy: 0.6000000\n",
      "Iter:   24 | Cost: 1.1657424 | Accuracy: 0.5000000\n",
      "Iter:   25 | Cost: 1.0877087 | Accuracy: 0.4000000\n",
      "Iter:   26 | Cost: 1.1683687 | Accuracy: 0.6000000\n",
      "Iter:   27 | Cost: 2.1141689 | Accuracy: 0.6000000\n",
      "Iter:   28 | Cost: 1.0272966 | Accuracy: 0.5000000\n",
      "Iter:   29 | Cost: 0.9664085 | Accuracy: 0.5000000\n",
      "Iter:   30 | Cost: 1.1287654 | Accuracy: 0.6000000\n",
      "Iter:   31 | Cost: 1.4202360 | Accuracy: 0.4000000\n",
      "Iter:   32 | Cost: 1.1286000 | Accuracy: 0.5000000\n",
      "Iter:   33 | Cost: 1.9594333 | Accuracy: 0.4000000\n",
      "Iter:   34 | Cost: 1.2811832 | Accuracy: 0.4000000\n",
      "Iter:   35 | Cost: 0.8522775 | Accuracy: 0.7000000\n",
      "Iter:   36 | Cost: 1.4765281 | Accuracy: 0.6000000\n",
      "Iter:   37 | Cost: 0.9603287 | Accuracy: 0.6000000\n",
      "Iter:   38 | Cost: 1.6031314 | Accuracy: 0.6000000\n",
      "Iter:   39 | Cost: 1.1700888 | Accuracy: 0.4000000\n",
      "Iter:   40 | Cost: 1.7571779 | Accuracy: 0.4000000\n",
      "Iter:   41 | Cost: 1.9608116 | Accuracy: 0.6000000\n",
      "Iter:   42 | Cost: 2.0802752 | Accuracy: 0.6000000\n",
      "Iter:   43 | Cost: 1.1904884 | Accuracy: 0.3000000\n",
      "Iter:   44 | Cost: 0.9941585 | Accuracy: 0.6000000\n",
      "Iter:   45 | Cost: 1.0709609 | Accuracy: 0.5000000\n",
      "Iter:   46 | Cost: 0.9780625 | Accuracy: 0.6000000\n",
      "Iter:   47 | Cost: 1.1573709 | Accuracy: 0.6000000\n",
      "Iter:   48 | Cost: 1.0235239 | Accuracy: 0.6000000\n",
      "Iter:   49 | Cost: 1.2842469 | Accuracy: 0.5000000\n",
      "Iter:   50 | Cost: 0.8549226 | Accuracy: 0.6000000\n",
      "Iter:   51 | Cost: 0.5136787 | Accuracy: 1.0000000\n",
      "Iter:   52 | Cost: 0.2488031 | Accuracy: 1.0000000\n",
      "Iter:   53 | Cost: 0.0461277 | Accuracy: 1.0000000\n",
      "Iter:   54 | Cost: 0.0293518 | Accuracy: 1.0000000\n",
      "Iter:   55 | Cost: 0.0205454 | Accuracy: 1.0000000\n",
      "Iter:   56 | Cost: 0.0352514 | Accuracy: 1.0000000\n",
      "Iter:   57 | Cost: 0.0576767 | Accuracy: 1.0000000\n",
      "Iter:   58 | Cost: 0.0291305 | Accuracy: 1.0000000\n",
      "Iter:   59 | Cost: 0.0127137 | Accuracy: 1.0000000\n",
      "Iter:   60 | Cost: 0.0058108 | Accuracy: 1.0000000\n",
      "Iter:   61 | Cost: 0.0018002 | Accuracy: 1.0000000\n",
      "Iter:   62 | Cost: 0.0014089 | Accuracy: 1.0000000\n",
      "Iter:   63 | Cost: 0.0017489 | Accuracy: 1.0000000\n",
      "Iter:   64 | Cost: 0.0021282 | Accuracy: 1.0000000\n",
      "Iter:   65 | Cost: 0.0029876 | Accuracy: 1.0000000\n",
      "Iter:   66 | Cost: 0.0035331 | Accuracy: 1.0000000\n",
      "Iter:   67 | Cost: 0.0035540 | Accuracy: 1.0000000\n",
      "Iter:   68 | Cost: 0.0025639 | Accuracy: 1.0000000\n",
      "Iter:   69 | Cost: 0.0019459 | Accuracy: 1.0000000\n",
      "Iter:   70 | Cost: 0.0015856 | Accuracy: 1.0000000\n",
      "Iter:   71 | Cost: 0.0008439 | Accuracy: 1.0000000\n",
      "Iter:   72 | Cost: 0.0005960 | Accuracy: 1.0000000\n",
      "Iter:   73 | Cost: 0.0003122 | Accuracy: 1.0000000\n",
      "Iter:   74 | Cost: 0.0002446 | Accuracy: 1.0000000\n",
      "Iter:   75 | Cost: 0.0001745 | Accuracy: 1.0000000\n",
      "Iter:   76 | Cost: 0.0001215 | Accuracy: 1.0000000\n",
      "Iter:   77 | Cost: 0.0001141 | Accuracy: 1.0000000\n",
      "Iter:   78 | Cost: 0.0001538 | Accuracy: 1.0000000\n",
      "Iter:   79 | Cost: 0.0001871 | Accuracy: 1.0000000\n",
      "Iter:   80 | Cost: 0.0001330 | Accuracy: 1.0000000\n",
      "Iter:   81 | Cost: 0.0001380 | Accuracy: 1.0000000\n",
      "Iter:   82 | Cost: 0.0001336 | Accuracy: 1.0000000\n",
      "Iter:   83 | Cost: 0.0001483 | Accuracy: 1.0000000\n",
      "Iter:   84 | Cost: 0.0001234 | Accuracy: 1.0000000\n",
      "Iter:   85 | Cost: 0.0001359 | Accuracy: 1.0000000\n",
      "Iter:   86 | Cost: 0.0001268 | Accuracy: 1.0000000\n",
      "Iter:   87 | Cost: 0.0002270 | Accuracy: 1.0000000\n",
      "Iter:   88 | Cost: 0.0000865 | Accuracy: 1.0000000\n",
      "Iter:   89 | Cost: 0.0000774 | Accuracy: 1.0000000\n",
      "Iter:   90 | Cost: 0.0000759 | Accuracy: 1.0000000\n",
      "Iter:   91 | Cost: 0.0000607 | Accuracy: 1.0000000\n",
      "Iter:   92 | Cost: 0.0000523 | Accuracy: 1.0000000\n",
      "Iter:   93 | Cost: 0.0000536 | Accuracy: 1.0000000\n",
      "Iter:   94 | Cost: 0.0000444 | Accuracy: 1.0000000\n",
      "Iter:   95 | Cost: 0.0000384 | Accuracy: 1.0000000\n",
      "Iter:   96 | Cost: 0.0000497 | Accuracy: 1.0000000\n",
      "Iter:   97 | Cost: 0.0000263 | Accuracy: 1.0000000\n",
      "Iter:   98 | Cost: 0.0000229 | Accuracy: 1.0000000\n",
      "Iter:   99 | Cost: 0.0000339 | Accuracy: 1.0000000\n",
      "Iter:  100 | Cost: 0.0000174 | Accuracy: 1.0000000\n"
     ]
    }
   ],
   "source": [
    "# FQS: the code here has not been altered.\n",
    "\n",
    "opt = NesterovMomentumOptimizer(0.5)\n",
    "batch_size = 5\n",
    "\n",
    "weights = weights_init\n",
    "bias = bias_init\n",
    "for it in range(100):\n",
    "\n",
    "    # Update the weights by one optimizer step, using only a limited batch of data\n",
    "    batch_index = np.random.randint(0, len(X), (batch_size,))\n",
    "    X_batch = X[batch_index]\n",
    "    Y_batch = Y[batch_index]\n",
    "    weights, bias = opt.step(cost, weights, bias, X=X_batch, Y=Y_batch)\n",
    "\n",
    "    # Compute accuracy\n",
    "    predictions = [np.sign(variational_classifier(weights, bias, x)) for x in X]\n",
    "\n",
    "    current_cost = cost(weights, bias, X, Y)\n",
    "    acc = accuracy(Y, predictions)\n",
    "\n",
    "    print(f\"Iter: {it+1:4d} | Cost: {current_cost:0.7f} | Accuracy: {acc:0.7f}\")"
   ]
  },
  {
   "cell_type": "markdown",
   "id": "003c057f",
   "metadata": {},
   "source": [
    "Once trained, we need to determine whether the final ML model can perform well with inputs it has never seen before. This is the \"testing\" phase of the workflow. The cell below loads the provided test set which is organized in the same style as the training set. Therefore, it must be preprocessed in the exact same manner so that our comparison is valid. "
   ]
  },
  {
   "cell_type": "code",
   "execution_count": 17,
   "id": "0fb2141a",
   "metadata": {},
   "outputs": [
    {
     "name": "stdout",
     "output_type": "stream",
     "text": [
      "x = [0 0 0 0], y = -1, pred=-1.0\n",
      "x = [0 0 1 1], y = -1, pred=-1.0\n",
      "x = [1 0 1 0], y = -1, pred=-1.0\n",
      "x = [1 1 1 0], y = 1, pred=1.0\n",
      "x = [1 1 0 0], y = -1, pred=-1.0\n",
      "x = [1 1 0 1], y = 1, pred=1.0\n",
      "Accuracy on unseen data: 1.0\n"
     ]
    }
   ],
   "source": [
    "# FQS: the code here has not been altered.\n",
    "\n",
    "data = np.loadtxt(\"variational_classifier/data/parity_test.txt\", dtype=int)\n",
    "X_test = np.array(data[:, :-1])\n",
    "Y_test = np.array(data[:, -1])\n",
    "Y_test = Y_test * 2 - 1  # shift label from {0, 1} to {-1, 1}\n",
    "\n",
    "predictions_test = [np.sign(variational_classifier(weights, bias, x)) for x in X_test]\n",
    "\n",
    "for x,y,p in zip(X_test, Y_test, predictions_test):\n",
    "    print(f\"x = {x}, y = {y}, pred={p}\")\n",
    "\n",
    "acc_test = accuracy(Y_test, predictions_test)\n",
    "print(\"Accuracy on unseen data:\", acc_test)"
   ]
  },
  {
   "cell_type": "markdown",
   "id": "2ac3e748",
   "metadata": {},
   "source": [
    "It worked! Our simple algorithm with a minimal training set was able to optimize our circuit such that it was able to take new test datapoints (still within the permitted domain of our problem) and correctly predict their classification. \n",
    "\n",
    "We conclude this section of our walk through by noting that the number of iterations was hard-coded to be 100. However, depending on the desired accuracy and final cost values, one might wish end the training early or prolong it to reduce computational expenditures in the former or attain lower costs in the latter. For example if it was sufficient have a cost below 0.001 or 0.0001, one could have a classical control variable within an `if` statement in the `for` loop (or perhaps switch over to a `while` loop). \n",
    "\n",
    "Finally, there are myriad other ways to improve and otherwise alter a ML algorithm from using a validation set to altering hyperparameters. These are beyond the scope of this review, but we note them for the sake of completion."
   ]
  },
  {
   "cell_type": "markdown",
   "id": "c901554e",
   "metadata": {},
   "source": [
    "## Example 2: Amplitude Encoding<a class=\"anchor\" id=\"ex2-title\"></a>\n",
    "We now move to the demo's second example. We will continue classifying data, but instead of checking a one-dimensional bit string's parity, we will now encode two-dimensional inputs that represent iris flower statistics. This is an [incredibly famous dataset](https://en.wikipedia.org/wiki/Iris_flower_data_set) from the 1930s and it predates modern computation by decades! It is a very popular dataset to learn ML and run basic tests, which is what we do here. The [original dataset](https://archive.ics.uci.edu/dataset/53/iris) has three flower species with fifty samples each with four input features that are used to classify each flower. Using the original dataset's ordering, these features are the sepal length, sepal width, petal length, and petal width (all in centimeters). The literature notes that only one of the subspecies is linearly separable, and that the other two would require additional information to delineate them.\n",
    "\n",
    "We note at this point (and will emphasize this again later) that the subset of data that we are using for this demo we are only using 100 of the 150 examples. We speculate that one of the two non-linearly separable flowers was removed such that there are only two possible outputs, which map nicely to a single qubit's measured observable. Additionally, this demo will only use the first two features to train the model instead of all four. We will see how this is handled later in the [Data](#ex2-data) section.\n",
    "\n",
    "Becasue the input data are real numbers corresponding to measured properties, this example also achieves another goal, which is to showcase how we can take 'real world' classical data and encode it for processing with quantum computing backends. This contrasts with the previous example which had binary inputs that code be encoded directly. Fortunately PennyLane has another built-in subroutine that we can use, as we will see in what follows. Onwards!\n",
    "\n",
    "### Example 2: Quantum and classical nodes<a class=\"anchor\" id=\"ex2-nodes\"></a>\n",
    "In the [first example](#ex1-fitting) the input data could be directly encoded to the qubits as it was very easy to map the binary inputs directly to the qubits. This made initialization a trivial exercise! But now the input data are not binary, so our encoding requires more nuance--and for this we turn to the probabilitstic nature of quantum mechanics. Rotating the qubits accocrding to the perscriptions described in [Schuld and Petruccioni](https://link.springer.com/book/10.1007/978-3-319-96424-9), we can alter the probability amplitudes of the 2 qubit statevector such that the expectation values of measuring both qubits is exactly equal to the desired lengths and widths of a given trial. Note that while this will work exactly as intended on our (classical) quantum simulator backend, on a real quantum computing backend there would be noise that could result in dephasing errors. \n",
    "\n",
    "The demo notes that we will only look at data from the positive subspace as the inclusion of negative subspace data would simply require even more rotations to encode the data, and that would not contribute any meaningful detail to this particular tutorial. But it can absolutely be done!\n",
    "\n",
    "In the cell below the subroutines `get_angles` and `state_preparation` work together to take an input array of four postive semidefinite real numbers (the flower measurements in centimeters) contained within a NumPy array and convert them into angles of rotation. That is, the measurements are encoded in the probability amplitudes of the statevectors upon qubit initialization. The demo notes that an additional extra step was taken by decomposing the CY gates according to procedure in [Nielsen and Chaung](https://www.michaelnielsen.org/qcqi/). "
   ]
  },
  {
   "cell_type": "code",
   "execution_count": 18,
   "id": "2ab622d5",
   "metadata": {},
   "outputs": [],
   "source": [
    "# FQS: the code here has not been altered.\n",
    "\n",
    "def get_angles(x):\n",
    "    beta0 = 2 * np.arcsin(np.sqrt(x[1] ** 2) / np.sqrt(x[0] ** 2 + x[1] ** 2 + 1e-12))\n",
    "    beta1 = 2 * np.arcsin(np.sqrt(x[3] ** 2) / np.sqrt(x[2] ** 2 + x[3] ** 2 + 1e-12))\n",
    "    beta2 = 2 * np.arcsin(np.linalg.norm(x[2:]) / np.linalg.norm(x))\n",
    "\n",
    "    return np.array([beta2, -beta1 / 2, beta1 / 2, -beta0 / 2, beta0 / 2])\n",
    "\n",
    "\n",
    "def state_preparation(a):\n",
    "    qml.RY(a[0], wires=0)\n",
    "\n",
    "    qml.CNOT(wires=[0, 1])\n",
    "    qml.RY(a[1], wires=1)\n",
    "    qml.CNOT(wires=[0, 1])\n",
    "    qml.RY(a[2], wires=1)\n",
    "\n",
    "    qml.PauliX(wires=0)\n",
    "    qml.CNOT(wires=[0, 1])\n",
    "    qml.RY(a[3], wires=1)\n",
    "    qml.CNOT(wires=[0, 1])\n",
    "    qml.RY(a[4], wires=1)\n",
    "    qml.PauliX(wires=0)"
   ]
  },
  {
   "cell_type": "markdown",
   "id": "b4282d03",
   "metadata": {},
   "source": [
    "The first subroutine merely computes the angles that will be necessary for the qubit initialization step by taking the four flower measurements in centimeters and mapping them to five values. Those values are then passed to `state_preparation` where the qubits are rotated and entangled to create the desired statevector whose probability amplitudes match the original physical data of the given trial. We can see this in action as the demo has given us a convenient example. While we did not alter the example, the reader could easily swap in their own (positive semi-definite) float values in line 4 to see how the angles change."
   ]
  },
  {
   "cell_type": "code",
   "execution_count": 20,
   "id": "81bbfd76",
   "metadata": {},
   "outputs": [
    {
     "name": "stdout",
     "output_type": "stream",
     "text": [
      "x               :  [0.538968 0.795036 0.278265 0.      ]\n",
      "angles          :  [ 0.563975 -0.        0.       -0.975046  0.975046]\n",
      "amplitude vector:  [ 0.538968  0.795036  0.278265 -0.      ]\n"
     ]
    }
   ],
   "source": [
    "# FQS: the code here has not been altered.\n",
    "# But, it could be by a curious reader :)\n",
    "\n",
    "x = np.array([0.53896774, 0.79503606, 0.27826503, 0.0], requires_grad=False)\n",
    "ang = get_angles(x)\n",
    "\n",
    "\n",
    "@qml.qnode(dev)\n",
    "def test(angles):\n",
    "    state_preparation(angles)\n",
    "\n",
    "    return qml.state()\n",
    "\n",
    "\n",
    "state = test(ang)\n",
    "\n",
    "print(\"x               : \", np.round(x, 6))\n",
    "print(\"angles          : \", np.round(ang, 6))\n",
    "print(\"amplitude vector: \", np.round(np.real(state), 6))"
   ]
  },
  {
   "cell_type": "markdown",
   "id": "13c05345",
   "metadata": {},
   "source": [
    "The previous cell's outputs show how the real positive inputs in `x` are mapped to angles that the qubits are sequentially rotated through such that their probability amplitudes are identically equal to those inputs.\n",
    "\n",
    "However! According to the tutorial we can circumvent this process by using the built-in function `qml.StatePrep()` because our backend is the `defualt.qubit` classical simulator. Because we don't actually need to perform any real rotation for real qubits, we can just initialize the variables like we would with a classical program. The authors appreciate having both approaches explained.\n",
    "\n",
    "In contrast with [Example 1](#ex1-fitting) where we had four qubits, we are now only using two. Therefore our `layer` subroutine needs to be adjusted. As before, no `qnode` decorator appears here because this subroutine will be called as part of a larger quantum circuit (that will have a decorator). The general flow of the routine is the same, where qubits are first independently rotated and then entangled.\n",
    "\n",
    "The cost function below that relies upon functions we defined earlier: `variational_classifier` and `square_loss` function. Recall, the former calls the subroutine `circuit` which first sets up the desired number of wires (qubits), initalizes the state of those qubits, adds gates to the circuit via `layers` and finally computes the expectation value in the computational basis. The latter subroutine averages the difference between every ground truth and its corresponding model prediction."
   ]
  },
  {
   "cell_type": "code",
   "execution_count": 21,
   "id": "f6005541",
   "metadata": {},
   "outputs": [],
   "source": [
    "# FQS: the code here has not been altered.\n",
    "\n",
    "def layer(layer_weights):\n",
    "    for wire in range(2):\n",
    "        qml.Rot(*layer_weights[wire], wires=wire)\n",
    "    qml.CNOT(wires=[0, 1])\n",
    "\n",
    "\n",
    "def cost(weights, bias, X, Y):\n",
    "    # Transpose the batch of input data in order to make the indexing\n",
    "    # in state_preparation work\n",
    "    predictions = variational_classifier(weights, bias, X.T)\n",
    "    return square_loss(Y, predictions)"
   ]
  },
  {
   "cell_type": "markdown",
   "id": "5764cb2f",
   "metadata": {},
   "source": [
    "### Example 2: Data<a class=\"anchor\" id=\"ex2-data\"></a>\n",
    "We are now ready to load data for preprocessing, which is all done classically. The text file we will be using has been modified from the original dataset in several ways. Firstly, only 100 of the possible 150 datapoints are present. Earlier we speculated that this might be so that there would only be two possible classes to sort, which would be convenient for this demo. Indeed, our second edit note is that the fifth column of the textfile which corresponds to the flower name has been updated to be either 1 or -1, corresponding to the eigenvalues of the computational basis. Third, the input features corresponding to the physical features have been scaled so they will not match the numbers in the original dataset. \n",
    "\n",
    "We also note that in this demo only the first two input features will be used to train the model. Line 4 in the code cell below demonstrates this. The tutorial explains that because we are using two qubits in our layers, our statevector will have four amplitudes, and therefore our two input features will require the addition of two 'latent dimensions' (executed in lines 8 and 9) so that the dimensions of the inputs match that of the quantum state. We speculate that this is done to demonstrate how one might add latent dimenions in a real-world scenario and/or to show that not every ML model needs to rely on every available feature of a dataset during training. After all, there are four physical variables available to us in the textfile, but they go untouched in this tutorial. \n",
    "\n",
    "After padding the vectors, the input vectors are normalized in lines 13 and 14. Finally, the inputs are turned into quantum-appropriate features by using the earlier subroutine `get_angles` in line 18 to determine what angles must be used with the rotation gates to properly initialize the state. We also note that line 18 sets the keyword `requires_grad` to `False` because these are initialization values, not variables that must be optimized via training."
   ]
  },
  {
   "cell_type": "code",
   "execution_count": 22,
   "id": "4c603bd2",
   "metadata": {},
   "outputs": [
    {
     "name": "stdout",
     "output_type": "stream",
     "text": [
      "First X sample (original)  : [0.4  0.75]\n",
      "First X sample (padded)    : [0.4  0.75 0.1  0.1 ]\n",
      "First X sample (normalized): [0.46420708 0.87038828 0.11605177 0.11605177]\n",
      "First features sample      : [ 0.32973573 -0.78539816  0.78539816 -1.080839    1.080839  ]\n"
     ]
    }
   ],
   "source": [
    "# FQS: the code here has not been altered.\n",
    "\n",
    "data = np.loadtxt(\"variational_classifier/data/iris_classes1and2_scaled.txt\")\n",
    "X = data[:, 0:2]\n",
    "print(f\"First X sample (original)  : {X[0]}\")\n",
    "\n",
    "# pad the vectors to size 2^2=4 with constant values\n",
    "padding = np.ones((len(X), 2)) * 0.1\n",
    "X_pad = np.c_[X, padding]\n",
    "print(f\"First X sample (padded)    : {X_pad[0]}\")\n",
    "\n",
    "# normalize each input\n",
    "normalization = np.sqrt(np.sum(X_pad**2, -1))\n",
    "X_norm = (X_pad.T / normalization).T\n",
    "print(f\"First X sample (normalized): {X_norm[0]}\")\n",
    "\n",
    "# the angles for state preparation are the features\n",
    "features = np.array([get_angles(x) for x in X_norm], requires_grad=False)\n",
    "print(f\"First features sample      : {features[0]}\")\n",
    "\n",
    "Y = data[:, -1]"
   ]
  },
  {
   "cell_type": "markdown",
   "id": "44882f0d",
   "metadata": {},
   "source": [
    "The tutorial page now has several code cells where they have plotted the stages of these preprocessing steps to assist with visualization. We have chosen to skip recreating those steps here. \n",
    "\n",
    "In addition to the new encoding and different circuit architecture requirements, we will also be training this model with a different purpose than what we did earlier. In Example 1 the goal was to optimize the weights (angles of rotation) for the qubits such that a single output would be able to tell us whether or not a new input binary bit string had an even or odd number of 1s in it. Here, we want a more general model and to do that it helps to split the training set into two sets--one for training and another for validation. In CML the validation set is also used for training the model, but specifically for refining the hyperparameters of a ML model. \n",
    "\n",
    "Here, the larger \"training set\" is used to train the weights of the layers, just like it was in Example 1. The \"validation set\" is then used in the exact same manner, refining the weights. We will see this procedure in the next section, Optimization. For now, we conclude this section by partitioning the training set into \"training\" and \"validation\" sets using a seeded random selection. The training set will contain 75% of data, and the validation set will have the remaining 25% (75 trials and 25 trials respectively)."
   ]
  },
  {
   "cell_type": "code",
   "execution_count": 25,
   "id": "0df8bf2a",
   "metadata": {},
   "outputs": [],
   "source": [
    "# FQS: the code here has not been altered.\n",
    "\n",
    "np.random.seed(0)\n",
    "num_data = len(Y)\n",
    "num_train = int(0.75 * num_data)\n",
    "index = np.random.permutation(range(num_data))\n",
    "feats_train = features[index[:num_train]]\n",
    "Y_train = Y[index[:num_train]]\n",
    "feats_val = features[index[num_train:]]\n",
    "Y_val = Y[index[num_train:]]\n",
    "\n",
    "# We need these later for plotting\n",
    "X_train = X[index[:num_train]]\n",
    "X_val = X[index[num_train:]]"
   ]
  },
  {
   "cell_type": "markdown",
   "id": "44aa401a",
   "metadata": {},
   "source": [
    "### Example 2: Optimization<a class=\"anchor\" id=\"ex2-opt\"></a>\n",
    "We are almost ready to put everything together. As before, we begin by creating the general structure of the quantum circuit in lines 3 and 4 and then creating some \"random\" values in lines 6 and 7 for the weights and bias respectively (but since we provided a seed, our results will be reproducible)."
   ]
  },
  {
   "cell_type": "code",
   "execution_count": 28,
   "id": "67be349c",
   "metadata": {},
   "outputs": [],
   "source": [
    "# FQS: the code here has not been altered.\n",
    "\n",
    "num_qubits = 2\n",
    "num_layers = 6\n",
    "\n",
    "weights_init = 0.01 * np.random.randn(num_layers, num_qubits, 3, requires_grad=True)\n",
    "bias_init = np.array(0.0, requires_grad=True)"
   ]
  },
  {
   "cell_type": "markdown",
   "id": "55e37257",
   "metadata": {},
   "source": [
    "We will use the same optimization routine as we did in Example 1, but this time our step size will be 0.01 (line 3). The batch size is unchanged at 5 (line 4), but this time we have enough training trials to have more than one batch! The random initial values for the weights and bias are assigned to the model.\n",
    "\n",
    "The `for` loop then iterates 60 times and starts with selecting trials for a batch. After that, the process is basically the same as it was in Example 1 where the weights and biases are updated with each optimization step and call to the `variational_classifier` which encodes the quantum `circuit` routine. The last few lines print out every other step's cost and accuracy. "
   ]
  },
  {
   "cell_type": "code",
   "execution_count": 29,
   "id": "d158dd75",
   "metadata": {},
   "outputs": [
    {
     "name": "stdout",
     "output_type": "stream",
     "text": [
      "Iter:     2 | Cost: 1.6589456 | Acc train: 0.4800000 | Acc validation: 0.5600000\n",
      "Iter:     4 | Cost: 1.2054273 | Acc train: 0.4933333 | Acc validation: 0.5600000\n",
      "Iter:     6 | Cost: 0.9740740 | Acc train: 0.4933333 | Acc validation: 0.7200000\n",
      "Iter:     8 | Cost: 0.9660872 | Acc train: 0.6400000 | Acc validation: 0.6400000\n",
      "Iter:    10 | Cost: 0.9569019 | Acc train: 0.6000000 | Acc validation: 0.6000000\n",
      "Iter:    12 | Cost: 0.9445863 | Acc train: 0.4933333 | Acc validation: 0.7200000\n",
      "Iter:    14 | Cost: 1.0339978 | Acc train: 0.4800000 | Acc validation: 0.5600000\n",
      "Iter:    16 | Cost: 1.0774217 | Acc train: 0.4933333 | Acc validation: 0.5600000\n",
      "Iter:    18 | Cost: 0.9984426 | Acc train: 0.4800000 | Acc validation: 0.5600000\n",
      "Iter:    20 | Cost: 0.8975279 | Acc train: 0.5600000 | Acc validation: 0.7600000\n",
      "Iter:    22 | Cost: 0.8451699 | Acc train: 0.6400000 | Acc validation: 0.6400000\n",
      "Iter:    24 | Cost: 0.8337489 | Acc train: 0.5600000 | Acc validation: 0.5200000\n",
      "Iter:    26 | Cost: 0.7832025 | Acc train: 0.6000000 | Acc validation: 0.6000000\n",
      "Iter:    28 | Cost: 0.7397515 | Acc train: 0.6133333 | Acc validation: 0.6000000\n",
      "Iter:    30 | Cost: 0.6690522 | Acc train: 0.6666667 | Acc validation: 0.6400000\n",
      "Iter:    32 | Cost: 0.5640186 | Acc train: 0.8266667 | Acc validation: 0.8000000\n",
      "Iter:    34 | Cost: 0.4765597 | Acc train: 0.8933333 | Acc validation: 0.8800000\n",
      "Iter:    36 | Cost: 0.4144135 | Acc train: 0.9200000 | Acc validation: 0.9600000\n",
      "Iter:    38 | Cost: 0.3569566 | Acc train: 0.9600000 | Acc validation: 1.0000000\n",
      "Iter:    40 | Cost: 0.3186159 | Acc train: 0.9866667 | Acc validation: 1.0000000\n",
      "Iter:    42 | Cost: 0.2853043 | Acc train: 0.9866667 | Acc validation: 1.0000000\n",
      "Iter:    44 | Cost: 0.2652725 | Acc train: 1.0000000 | Acc validation: 1.0000000\n",
      "Iter:    46 | Cost: 0.2525848 | Acc train: 1.0000000 | Acc validation: 1.0000000\n",
      "Iter:    48 | Cost: 0.2444278 | Acc train: 1.0000000 | Acc validation: 1.0000000\n",
      "Iter:    50 | Cost: 0.2436316 | Acc train: 0.9866667 | Acc validation: 1.0000000\n",
      "Iter:    52 | Cost: 0.2376316 | Acc train: 1.0000000 | Acc validation: 1.0000000\n",
      "Iter:    54 | Cost: 0.2307475 | Acc train: 1.0000000 | Acc validation: 1.0000000\n",
      "Iter:    56 | Cost: 0.2341245 | Acc train: 1.0000000 | Acc validation: 1.0000000\n",
      "Iter:    58 | Cost: 0.2292663 | Acc train: 1.0000000 | Acc validation: 1.0000000\n",
      "Iter:    60 | Cost: 0.2241948 | Acc train: 1.0000000 | Acc validation: 1.0000000\n"
     ]
    }
   ],
   "source": [
    "# FQS: the code here has not been altered.\n",
    "\n",
    "opt = NesterovMomentumOptimizer(0.01)\n",
    "batch_size = 5\n",
    "\n",
    "# train the variational classifier\n",
    "weights = weights_init\n",
    "bias = bias_init\n",
    "for it in range(60):\n",
    "    # Update the weights by one optimizer step\n",
    "    batch_index = np.random.randint(0, num_train, (batch_size,))\n",
    "    feats_train_batch = feats_train[batch_index]\n",
    "    Y_train_batch = Y_train[batch_index]\n",
    "    weights, bias, _, _ = opt.step(cost, weights, bias, feats_train_batch, Y_train_batch)\n",
    "\n",
    "    # Compute predictions on train and validation set\n",
    "    predictions_train = np.sign(variational_classifier(weights, bias, feats_train.T))\n",
    "    predictions_val = np.sign(variational_classifier(weights, bias, feats_val.T))\n",
    "\n",
    "    # Compute accuracy on train and validation set\n",
    "    acc_train = accuracy(Y_train, predictions_train)\n",
    "    acc_val = accuracy(Y_val, predictions_val)\n",
    "\n",
    "    if (it + 1) % 2 == 0:\n",
    "        _cost = cost(weights, bias, features, Y)\n",
    "        print(\n",
    "            f\"Iter: {it + 1:5d} | Cost: {_cost:0.7f} | \"\n",
    "            f\"Acc train: {acc_train:0.7f} | Acc validation: {acc_val:0.7f}\"\n",
    "        )"
   ]
  },
  {
   "cell_type": "markdown",
   "id": "6ff13c78",
   "metadata": {},
   "source": [
    "Now that our model has been trained, we can plot the results. Earlier the tutorial imported the Python module MatPlotLib, but since we skipped that cell in this walk through, we include it at this point."
   ]
  },
  {
   "cell_type": "code",
   "execution_count": 30,
   "id": "61330589",
   "metadata": {},
   "outputs": [],
   "source": [
    "import matplotlib.pyplot as plt"
   ]
  },
  {
   "cell_type": "code",
   "execution_count": 31,
   "id": "b9aa1bf5",
   "metadata": {},
   "outputs": [
    {
     "data": {
      "image/png": "[encoded data removed]",
      "text/plain": [
       "<Figure size 640x480 with 2 Axes>"
      ]
     },
     "metadata": {},
     "output_type": "display_data"
    }
   ],
   "source": [
    "# FQS: the code here has not been altered.\n",
    "\n",
    "plt.figure()\n",
    "cm = plt.cm.RdBu\n",
    "\n",
    "# make data for decision regions\n",
    "xx, yy = np.meshgrid(np.linspace(0.0, 1.5, 30), np.linspace(0.0, 1.5, 30))\n",
    "X_grid = [np.array([x, y]) for x, y in zip(xx.flatten(), yy.flatten())]\n",
    "\n",
    "# preprocess grid points like data inputs above\n",
    "padding = 0.1 * np.ones((len(X_grid), 2))\n",
    "X_grid = np.c_[X_grid, padding]  # pad each input\n",
    "normalization = np.sqrt(np.sum(X_grid**2, -1))\n",
    "X_grid = (X_grid.T / normalization).T  # normalize each input\n",
    "features_grid = np.array([get_angles(x) for x in X_grid])  # angles are new features\n",
    "predictions_grid = variational_classifier(weights, bias, features_grid.T)\n",
    "Z = np.reshape(predictions_grid, xx.shape)\n",
    "\n",
    "# plot decision regions\n",
    "levels = np.arange(-1, 1.1, 0.1)\n",
    "cnt = plt.contourf(xx, yy, Z, levels=levels, cmap=cm, alpha=0.8, extend=\"both\")\n",
    "plt.contour(xx, yy, Z, levels=[0.0], colors=(\"black\",), linestyles=(\"--\",), linewidths=(0.8,))\n",
    "plt.colorbar(cnt, ticks=[-1, 0, 1])\n",
    "\n",
    "# plot data\n",
    "for color, label in zip([\"b\", \"r\"], [1, -1]):\n",
    "    plot_x = X_train[:, 0][Y_train == label]\n",
    "    plot_y = X_train[:, 1][Y_train == label]\n",
    "    plt.scatter(plot_x, plot_y, c=color, marker=\"o\", ec=\"k\", label=f\"class {label} train\")\n",
    "    plot_x = (X_val[:, 0][Y_val == label],)\n",
    "    plot_y = (X_val[:, 1][Y_val == label],)\n",
    "    plt.scatter(plot_x, plot_y, c=color, marker=\"^\", ec=\"k\", label=f\"class {label} validation\")\n",
    "\n",
    "plt.legend()\n",
    "plt.show()"
   ]
  },
  {
   "cell_type": "markdown",
   "id": "95d4a5c3",
   "metadata": {},
   "source": [
    "The important takeaway from this graph is that our trained model was capable of finding a decision boundary (the dashed black line in the above image) which shows a clear separation between the two flower types, even for the validation data (triangle points) which was not originally used for training. \n",
    "\n",
    "This concludes the walk through of the PennyLane [Variational Classifier](https://pennylane.ai/qml/demos/tutorial_variational_classifier/) tutorial, which was the goal of Task 2. The next and final notebook will present and discuss Task 3 which requests that we document our journey through PennyLane's [Quanvolutional Neural Networks](https://pennylane.ai/qml/demos/tutorial_quanvolution/) guide."
   ]
  },
  {
   "cell_type": "code",
   "execution_count": null,
   "id": "bd4d9b9f",
   "metadata": {},
   "outputs": [],
   "source": []
  }
 ],
 "metadata": {
  "kernelspec": {
   "display_name": "Python 3 (ipykernel)",
   "language": "python",
   "name": "python3"
  },
  "language_info": {
   "codemirror_mode": {
    "name": "ipython",
    "version": 3
   },
   "file_extension": ".py",
   "mimetype": "text/x-python",
   "name": "python",
   "nbconvert_exporter": "python",
   "pygments_lexer": "ipython3",
   "version": "3.11.5"
  }
 },
 "nbformat": 4,
 "nbformat_minor": 5
}
